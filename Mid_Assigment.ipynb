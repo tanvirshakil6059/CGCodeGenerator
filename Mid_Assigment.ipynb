{
  "nbformat": 4,
  "nbformat_minor": 0,
  "metadata": {
    "colab": {
      "name": "Mid_Assigment",
      "provenance": [],
      "collapsed_sections": [],
      "authorship_tag": "ABX9TyMVLRzduEFRGCfptMnaMW1G",
      "include_colab_link": true
    },
    "kernelspec": {
      "display_name": "Python 3",
      "name": "python3"
    },
    "language_info": {
      "name": "python"
    }
  },
  "cells": [
    {
      "cell_type": "markdown",
      "metadata": {
        "id": "view-in-github",
        "colab_type": "text"
      },
      "source": [
        "<a href=\"https://colab.research.google.com/github/tanvirshakil6059/CGCodeGenerator/blob/main/Mid_Assigment.ipynb\" target=\"_parent\"><img src=\"https://colab.research.google.com/assets/colab-badge.svg\" alt=\"Open In Colab\"/></a>"
      ]
    },
    {
      "cell_type": "markdown",
      "metadata": {
        "id": "yNpXvkAtJHkN"
      },
      "source": [
        " **Midterm Assignment (PiP-A)**\n",
        "\n",
        " **Name: Md Tanvir Rahman Shakil**\n",
        " \n",
        " **ID: 18-36691-1**\n",
        "\n",
        "\n",
        "\n",
        "\n",
        "\n"
      ]
    },
    {
      "cell_type": "markdown",
      "metadata": {
        "id": "F41un-PbH-aF"
      },
      "source": [
        "**Problem #1**"
      ]
    },
    {
      "cell_type": "code",
      "metadata": {
        "colab": {
          "base_uri": "https://localhost:8080/"
        },
        "id": "aciaU-Do7thr",
        "outputId": "0dd40c4b-259a-4893-d094-e2c7ac4733d4"
      },
      "source": [
        "list1 = [\"py\", \"i\", \"m\", \"favou\", \"lang\"]\n",
        "list2 = [\"thon\", \"s\", \"y\", \"rite\", \"uage\"]\n",
        "\n",
        "def list_concate(list1,list2):\n",
        "  new_list = [i + j for i, j in zip(list1,list2)]\n",
        "  print (\"Final list: \"+str(new_list))\n",
        "\n",
        "list_concate(list1,list2)"
      ],
      "execution_count": null,
      "outputs": [
        {
          "output_type": "stream",
          "name": "stdout",
          "text": [
            "Final list: ['python', 'is', 'my', 'favourite', 'language']\n"
          ]
        }
      ]
    },
    {
      "cell_type": "markdown",
      "metadata": {
        "id": "RJ0Pbi-7KMF6"
      },
      "source": [
        "**Problem #2**"
      ]
    },
    {
      "cell_type": "code",
      "metadata": {
        "colab": {
          "base_uri": "https://localhost:8080/"
        },
        "id": "u-ghCgcWKQZ9",
        "outputId": "d462558a-0801-481c-bb31-9e2b38a19984"
      },
      "source": [
        "import numpy\n",
        "\n",
        "arr = numpy.array([[20 ,66, 88, 12], [75 ,19, 92, 71], [27 ,90, 33, 67], [21 ,14, 25, 38], [51 ,44, 57, 77]])\n",
        "\n",
        "new_arr=arr[::2,1::2]\n",
        "\n",
        "print(new_arr)"
      ],
      "execution_count": 142,
      "outputs": [
        {
          "output_type": "stream",
          "name": "stdout",
          "text": [
            "[[66 12]\n",
            " [90 67]\n",
            " [44 77]]\n"
          ]
        }
      ]
    },
    {
      "cell_type": "markdown",
      "metadata": {
        "id": "ZRcb4nJLN_M_"
      },
      "source": [
        "**Problem #3**"
      ]
    },
    {
      "cell_type": "code",
      "metadata": {
        "colab": {
          "base_uri": "https://localhost:8080/"
        },
        "id": "a_06Uu_1ODxw",
        "outputId": "3aaa71ed-0354-4c1d-985d-98723bf0ae0b"
      },
      "source": [
        "import numpy as np\n",
        "\n",
        "arr = np.arange(10,34).reshape((8, 3))\n",
        "\n",
        "x1, x2, x3, x4 = np.split(arr, 4)\n",
        "print(x1)\n",
        "print(x2)\n",
        "print(x3)\n",
        "print(x4)"
      ],
      "execution_count": 141,
      "outputs": [
        {
          "output_type": "stream",
          "name": "stdout",
          "text": [
            "[[10 11 12]\n",
            " [13 14 15]]\n",
            "[[16 17 18]\n",
            " [19 20 21]]\n",
            "[[22 23 24]\n",
            " [25 26 27]]\n",
            "[[28 29 30]\n",
            " [31 32 33]]\n"
          ]
        }
      ]
    },
    {
      "cell_type": "markdown",
      "metadata": {
        "id": "gvEtHygAXtex"
      },
      "source": [
        "**Problem #4**"
      ]
    },
    {
      "cell_type": "code",
      "metadata": {
        "colab": {
          "base_uri": "https://localhost:8080/"
        },
        "id": "leLoDKyMXwKE",
        "outputId": "dcb7c02f-ee36-4c44-f3de-4aa4767fc3ac"
      },
      "source": [
        "import numpy as np\n",
        "\n",
        "arr = np.array([[34, 43, 73], [82, 22, 12], [53, 94, 66]])\n",
        "\n",
        "arr_r=arr[:,arr[1,:].argsort()]\n",
        "\n",
        "arr_c=arr[arr[:, 1].argsort()]\n",
        "\n",
        "print(\"Original Array:\" )\n",
        "print(arr )\n",
        "\n",
        "print(\"Sorting by 2nd row Array:\" )\n",
        "print(arr_r)\n",
        "\n",
        "print(\"Sorting by 2nd column Array:\" )\n",
        "print(arr_c)"
      ],
      "execution_count": 184,
      "outputs": [
        {
          "output_type": "stream",
          "name": "stdout",
          "text": [
            "Original Array:\n",
            "[[34 43 73]\n",
            " [82 22 12]\n",
            " [53 94 66]]\n",
            "Sorting by 2nd row Array:\n",
            "[[73 43 34]\n",
            " [12 22 82]\n",
            " [66 94 53]]\n",
            "Sorting by 2nd column Array:\n",
            "[[82 22 12]\n",
            " [34 43 73]\n",
            " [53 94 66]]\n"
          ]
        }
      ]
    },
    {
      "cell_type": "markdown",
      "metadata": {
        "id": "Tk68aiRPnBEM"
      },
      "source": [
        "**Problem #5**"
      ]
    },
    {
      "cell_type": "code",
      "metadata": {
        "colab": {
          "base_uri": "https://localhost:8080/"
        },
        "id": "yKEKU2xvnBRD",
        "outputId": "c0dfcd55-4d46-4b83-bff7-dd235167071a"
      },
      "source": [
        "class Vehicle:\n",
        "  def __init__(self,name,mileage,capacity):\n",
        "    self.name=name\n",
        "    self.mileage=mileage\n",
        "    self.capacity=capacity\n",
        "  \n",
        "  def fare(self):\n",
        "    return self.capacity*100\n",
        "\n",
        "class Bus(Vehicle):\n",
        "     \n",
        "    def fare(self):\n",
        "       return (self.capacity*100)+((self.capacity*100)*0.1)\n",
        "\n",
        "class Minibus(Bus):\n",
        "   \n",
        "     def fare(self):\n",
        "       return ((self.capacity*100)+((self.capacity*100)*0.1))*0.5\n",
        "\n",
        "V = Vehicle('Premio',70,5)\n",
        "B = Bus('Ena',80,50)\n",
        "Mb= Minibus(\"Turag\",60,20)\n",
        "\n",
        "print('Fare Charge of Vehicle:',V.fare())\n",
        "print('Fare Charge of Bus:',B.fare())\n",
        "print('Fare Charge of Minibus:',Mb.fare())"
      ],
      "execution_count": 185,
      "outputs": [
        {
          "output_type": "stream",
          "name": "stdout",
          "text": [
            "Fare Charge of Vehicle: 500\n",
            "Fare Charge of Bus: 5500.0\n",
            "Fare Charge of Minibus: 1100.0\n"
          ]
        }
      ]
    },
    {
      "cell_type": "markdown",
      "metadata": {
        "id": "JlTUQAYhX_Db"
      },
      "source": [
        "**Problem #6**"
      ]
    },
    {
      "cell_type": "code",
      "metadata": {
        "colab": {
          "base_uri": "https://localhost:8080/"
        },
        "id": "U-BPqPvsYDSE",
        "outputId": "34a38875-e46e-4a4b-e00f-63af6516ef50"
      },
      "source": [
        "import keyword\n",
        "Reserve_keywords= keyword.kwlist\n",
        "\n",
        "def Check(Reserve_keywords):\n",
        "\n",
        "  kw=input(\"Enter a keyword:\")\n",
        "  if kw in Reserve_keywords:\n",
        "      print('The keyword is Reservekeywords')  \n",
        "  else:\n",
        "    print('The keyword is not Reserve keywords')\n",
        "Check(Reserve_keywords)"
      ],
      "execution_count": 192,
      "outputs": [
        {
          "output_type": "stream",
          "name": "stdout",
          "text": [
            "Enter a keyword:if\n",
            "The keyword is Reservekeywords\n"
          ]
        }
      ]
    },
    {
      "cell_type": "markdown",
      "metadata": {
        "id": "j1PUZFLMeaff"
      },
      "source": [
        "**Problem #7**"
      ]
    },
    {
      "cell_type": "code",
      "metadata": {
        "id": "PY-zxiQYean5"
      },
      "source": [
        ""
      ],
      "execution_count": null,
      "outputs": []
    }
  ]
}